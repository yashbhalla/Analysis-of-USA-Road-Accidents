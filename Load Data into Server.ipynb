{
 "cells": [
  {
   "cell_type": "code",
   "execution_count": null,
   "id": "b785f77f",
   "metadata": {},
   "outputs": [],
   "source": [
    "import pandas as pd\n",
    "import oracledb\n",
    "import re"
   ]
  },
  {
   "cell_type": "code",
   "execution_count": null,
   "id": "94cebe31",
   "metadata": {},
   "outputs": [],
   "source": [
    "passw = \"password\"\n",
    "\n",
    "connection = oracledb.connect(\n",
    "    user=\"user\",\n",
    "    password=passw,\n",
    "    dsn=\"oracle_server_details\")\n",
    "print(\"CONNECTION SUCCESS\")\n",
    "mycursor = connection.cursor()"
   ]
  },
  {
   "cell_type": "code",
   "execution_count": null,
   "id": "ca40f315",
   "metadata": {},
   "outputs": [],
   "source": [
    "weather = pd.read_csv(\"weather.csv\")\n"
   ]
  },
  {
   "cell_type": "code",
   "execution_count": null,
   "id": "77b3d193",
   "metadata": {},
   "outputs": [],
   "source": [
    "mycursor = connection.cursor()\n",
    "insert_query = \"INSERT INTO weather (Weather_ID, Temperature, Humidity, Pressure, Wind_Speed, Wind_Chill, Visibility, Precipitation, Time_Of_Day) VALUES(:Weather_ID, :Temperature, :Humidity, :Pressure, :Wind_Speed, :Wind_Chill, :Visibility, :Precipitation, :Time_Of_Day)\"\n",
    "\n"
   ]
  },
  {
   "cell_type": "code",
   "execution_count": null,
   "id": "0e7156fd",
   "metadata": {},
   "outputs": [],
   "source": [
    "myList2 = []"
   ]
  },
  {
   "cell_type": "code",
   "execution_count": null,
   "id": "09e4c823",
   "metadata": {},
   "outputs": [],
   "source": [
    "myList = []"
   ]
  },
  {
   "cell_type": "code",
   "execution_count": null,
   "id": "22f0b448",
   "metadata": {},
   "outputs": [],
   "source": [
    "weather.shape"
   ]
  },
  {
   "cell_type": "code",
   "execution_count": null,
   "id": "e5100d74",
   "metadata": {},
   "outputs": [],
   "source": [
    "for i, row in weather.iterrows():\n",
    "    val2 = (row['ID'], row['Temperature(F)'],row['Humidity(%)'], row['Pressure(in)'], row['Wind_Speed(mph)'],row['Wind_Chill(F)'], row['Visibility(mi)'],row['Precipitation(in)'], row['Sunrise_Sunset'])\n",
    "\n",
    "    myList.append(val2)\n",
    "mycursor.executemany(insert_query, myList)"
   ]
  },
  {
   "cell_type": "code",
   "execution_count": null,
   "id": "45338c9b",
   "metadata": {},
   "outputs": [],
   "source": [
    "weather_keys = pd.Series(weather['ID'])\n"
   ]
  },
  {
   "cell_type": "code",
   "execution_count": null,
   "id": "b6c04422",
   "metadata": {},
   "outputs": [],
   "source": [
    "county_pop = pd.read_csv('county_complete.csv')"
   ]
  },
  {
   "cell_type": "code",
   "execution_count": null,
   "id": "2de1c1aa",
   "metadata": {},
   "outputs": [],
   "source": [
    "county_pop.columns"
   ]
  },
  {
   "cell_type": "code",
   "execution_count": null,
   "id": "496ac6cd",
   "metadata": {},
   "outputs": [],
   "source": [
    "county_pop_years = county_pop[['fips', 'state', 'name', 'pop2010', 'pop2011', 'pop2012',\n",
    "       'pop2013', 'pop2014', 'pop2015','pop2016', 'pop2017']]"
   ]
  },
  {
   "cell_type": "code",
   "execution_count": null,
   "id": "5df63e3c",
   "metadata": {},
   "outputs": [],
   "source": [
    "county_pop_years.dropna()\n"
   ]
  },
  {
   "cell_type": "code",
   "execution_count": null,
   "id": "b04f3b34",
   "metadata": {},
   "outputs": [],
   "source": [
    "pop2016 = {}\n",
    "pop2017 = {}\n",
    "pop2018 = {}\n",
    "pop2019 = {}\n",
    "pop2020 = {}\n",
    "pop2021 = {}\n",
    "pop2022 = {}\n",
    "pop2023 = {}\n",
    "\n",
    "\n",
    "for i, row in county_pop_years.iterrows():\n",
    "    if row['state'] not in pop2016:\n",
    "        pop2016[row['state']] = 0\n",
    "    pop2016[row['state']] += row['pop2010']\n",
    "        \n",
    "    if row['state'] not in pop2017:\n",
    "        pop2017[row['state']] = 0 \n",
    "    pop2017[row['state']] += row['pop2011']\n",
    "        \n",
    "    if row['state'] not in pop2018:\n",
    "        pop2018[row['state']] = 0\n",
    "    pop2018[row['state']] += row['pop2012']\n",
    "        \n",
    "    if row['state'] not in pop2019:\n",
    "        pop2019[row['state']] = 0 \n",
    "    pop2019[row['state']] += row['pop2013']\n",
    "        \n",
    "    if row['state'] not in pop2020:\n",
    "        pop2020[row['state']] = 0 \n",
    "    pop2020[row['state']] += row['pop2014']\n",
    "        \n",
    "    if row['state'] not in pop2021:\n",
    "        pop2021[row['state']] = 0 \n",
    "    pop2021[row['state']] += row['pop2015']\n",
    "        \n",
    "    if row['state'] not in pop2022:\n",
    "        pop2022[row['state']] = 0 \n",
    "    pop2022[row['state']] += row['pop2016']\n",
    "        \n",
    "    if row['state'] not in pop2023:\n",
    "        pop2023[row['state']] = 0 \n",
    "    pop2023[row['state']] += row['pop2017']"
   ]
  },
  {
   "cell_type": "code",
   "execution_count": null,
   "id": "b4058640",
   "metadata": {},
   "outputs": [],
   "source": []
  },
  {
   "cell_type": "code",
   "execution_count": null,
   "id": "0d65987d",
   "metadata": {},
   "outputs": [],
   "source": [
    "new_df = pd.DataFrame(columns = ['name','year', 'population'])"
   ]
  },
  {
   "cell_type": "code",
   "execution_count": null,
   "id": "8cc71fef",
   "metadata": {},
   "outputs": [],
   "source": [
    "for x in pop2016:\n",
    "    new_df.loc[len(new_df.index)] = [x, 2016, pop2016[x]]\n",
    "\n",
    "for x in pop2017:\n",
    "    new_df.loc[len(new_df.index)] = [x, 2017, pop2017[x]]\n",
    "for x in pop2018:\n",
    "    new_df.loc[len(new_df.index)] = [x, 2018, pop2018[x]]\n",
    "for x in pop2019:\n",
    "    new_df.loc[len(new_df.index)] = [x, 2019, pop2019[x]]\n",
    "for x in pop2020:\n",
    "    new_df.loc[len(new_df.index)] = [x, 2020, pop2020[x]]\n",
    "for x in pop2021:\n",
    "    new_df.loc[len(new_df.index)] = [x, 2021, pop2021[x]]\n",
    "for x in pop2022:\n",
    "    new_df.loc[len(new_df.index)] = [x, 2022, pop2022[x]]\n",
    "for x in pop2023:\n",
    "    new_df.loc[len(new_df.index)] = [x, 2023, pop2023[x]]"
   ]
  },
  {
   "cell_type": "code",
   "execution_count": null,
   "id": "7b481f3c",
   "metadata": {},
   "outputs": [],
   "source": [
    "new_df.dtypes"
   ]
  },
  {
   "cell_type": "code",
   "execution_count": null,
   "id": "5583803f",
   "metadata": {},
   "outputs": [],
   "source": [
    "connection.commit()"
   ]
  },
  {
   "cell_type": "code",
   "execution_count": null,
   "id": "0456db12",
   "metadata": {
    "scrolled": false
   },
   "outputs": [],
   "source": [
    "myList = []\n",
    "new_df.to_csv(\"statepop.csv\")\n",
    "for i, row in new_df.iterrows():\n",
    "    val = (myDict[row['name']], row['year'], row['population'])\n",
    "    print(val)\n",
    "    myList.append(val)"
   ]
  },
  {
   "cell_type": "code",
   "execution_count": null,
   "id": "0439dc56",
   "metadata": {},
   "outputs": [],
   "source": [
    "insert_query = \"INSERT INTO StatePopulation (State_Name, Year, Population) VALUES(:State_Name, :Year, :Population)\"\n",
    "\n",
    "mycursor.executemany(insert_query, myList)"
   ]
  },
  {
   "cell_type": "code",
   "execution_count": null,
   "id": "ee21ac75",
   "metadata": {},
   "outputs": [],
   "source": [
    "mycursor.execute(\"CREATE TABLE StatePopulation(State_Name VARCHAR2(40),Year NUMBER,Population NUMBER)\")"
   ]
  },
  {
   "cell_type": "code",
   "execution_count": null,
   "id": "9f272405",
   "metadata": {},
   "outputs": [],
   "source": [
    "state = pd.read_csv(\"StateCodes.csv\")\n",
    "\n",
    "myDict = {}\n",
    "\n",
    "\n",
    "\n",
    "for i,row in state.iterrows():\n",
    "    myDict[row['State']] = row['Alpha code']"
   ]
  },
  {
   "cell_type": "code",
   "execution_count": null,
   "id": "4edc316e",
   "metadata": {},
   "outputs": [],
   "source": [
    "print(myDict)"
   ]
  },
  {
   "cell_type": "code",
   "execution_count": null,
   "id": "5c5c498d",
   "metadata": {},
   "outputs": [],
   "source": [
    "statearea = pd.read_csv('statearea.csv')\n"
   ]
  },
  {
   "cell_type": "code",
   "execution_count": null,
   "id": "b8eb5157",
   "metadata": {},
   "outputs": [],
   "source": [
    "insert_query = \"INSERT INTO StateArea (State_Name, State_Area) VALUES(:State_Name, :State_Area)\"\n",
    "\n",
    "myList = []"
   ]
  },
  {
   "cell_type": "code",
   "execution_count": null,
   "id": "a94f4a80",
   "metadata": {},
   "outputs": [],
   "source": [
    "for i, row in statearea.iterrows():\n",
    "    val = (row['state'],row['area'])\n",
    "    myList.append(val)"
   ]
  },
  {
   "cell_type": "code",
   "execution_count": null,
   "id": "396310d3",
   "metadata": {},
   "outputs": [],
   "source": [
    "mycursor.executemany(insert_query, myList)"
   ]
  },
  {
   "cell_type": "code",
   "execution_count": null,
   "id": "2e3fb49b",
   "metadata": {},
   "outputs": [],
   "source": [
    "insert_query = \"INSERT INTO CountyArea (County_id, County, State_Name, County_Area) VALUES(:County_id, :County, :State_Name, :County_Area)\"\n",
    "\n",
    "myList = []"
   ]
  },
  {
   "cell_type": "code",
   "execution_count": null,
   "id": "c9f803df",
   "metadata": {},
   "outputs": [],
   "source": [
    "countyarea = pd.read_csv(\"County Data.csv\")"
   ]
  },
  {
   "cell_type": "code",
   "execution_count": null,
   "id": "2a4bb1f3",
   "metadata": {},
   "outputs": [],
   "source": [
    "for i, row in countyarea.iterrows():\n",
    "    val = (row['fips'],row['name'],row['state'],row['area_2010'])\n",
    "    myList.append(val)\n",
    "mycursor.executemany(insert_query, myList)"
   ]
  },
  {
   "cell_type": "code",
   "execution_count": null,
   "id": "44ce2886",
   "metadata": {},
   "outputs": [],
   "source": [
    "insert_query = \"INSERT INTO AccidentLocation (Location_ID, Street_Name, City, Zipcode, Timezone, County) VALUES(:Location_ID, :Street_Name, :City, :Zipcode, :Timezone, :County)\"\n",
    "\n",
    "myList = []"
   ]
  },
  {
   "cell_type": "code",
   "execution_count": null,
   "id": "5e9ac876",
   "metadata": {},
   "outputs": [],
   "source": [
    "location = pd.read_csv(\"Location3.csv\")"
   ]
  },
  {
   "cell_type": "code",
   "execution_count": null,
   "id": "e6563e87",
   "metadata": {},
   "outputs": [],
   "source": [
    "location_keys = pd.Series(location['ID'])"
   ]
  },
  {
   "cell_type": "code",
   "execution_count": null,
   "id": "97570d07",
   "metadata": {
    "scrolled": true
   },
   "outputs": [],
   "source": [
    "for i, row in location.iterrows():\n",
    "\n",
    "    val = (row['ID'],row['Street'],row['City'],row['Zipcode'],row['Timezone'],row['FIPS'])\n",
    "    myList.append(val)\n",
    "print(\"Hello\")"
   ]
  },
  {
   "cell_type": "code",
   "execution_count": null,
   "id": "abdcd097",
   "metadata": {},
   "outputs": [],
   "source": [
    "len(myList)"
   ]
  },
  {
   "cell_type": "code",
   "execution_count": null,
   "id": "c728af4a",
   "metadata": {},
   "outputs": [],
   "source": [
    "mycursor.executemany(insert_query, myList)"
   ]
  },
  {
   "cell_type": "markdown",
   "id": "4dc87786",
   "metadata": {},
   "source": []
  },
  {
   "cell_type": "code",
   "execution_count": null,
   "id": "be730e9d",
   "metadata": {},
   "outputs": [],
   "source": [
    "accidents = pd.read_csv(\"accidents.csv\")"
   ]
  },
  {
   "cell_type": "code",
   "execution_count": null,
   "id": "ebb004f0",
   "metadata": {},
   "outputs": [],
   "source": [
    "insert_query = \"INSERT INTO Accident (Accident_ID, Severity, Distance_Affected, Start_Time, End_Time, Weather_ID,Location_ID) VALUES(:Accident_ID, :Severity, :Distance_Affected, TIMESTAMP :Start_Time, TIMESTAMP :End_Time, :Weather_ID,:Location_ID)\"\n",
    "\n",
    "# myList = []\n",
    "# TO_TIMESTAMP(:ts_val, 'YYYY-MM-DD HH24:MI:SS')"
   ]
  },
  {
   "cell_type": "code",
   "execution_count": null,
   "id": "43ce22c7",
   "metadata": {},
   "outputs": [],
   "source": []
  },
  {
   "cell_type": "code",
   "execution_count": null,
   "id": "e6610d64",
   "metadata": {},
   "outputs": [],
   "source": [
    "insert_query = \"INSERT INTO Accident (Accident_ID, Severity, Distance_Affected, Start_Time, End_Time, Weather_ID,Location_ID) VALUES(:Accident_ID, :Severity, :Distance_Affected, TO_TIMESTAMP(:Start_Time, 'YYYY-MM-DD HH24:MI:SS'), TO_TIMESTAMP(:End_Time, 'YYYY-MM-DD HH24:MI:SS'), :Weather_ID,:Location_ID)\"\n"
   ]
  },
  {
   "cell_type": "code",
   "execution_count": null,
   "id": "191ec80b",
   "metadata": {},
   "outputs": [],
   "source": [
    "lk = location_keys.unique()\n",
    "wk = location_keys.unique()\n",
    "\n"
   ]
  },
  {
   "cell_type": "code",
   "execution_count": null,
   "id": "e6715481",
   "metadata": {},
   "outputs": [],
   "source": [
    "ll = location_keys\n",
    "wl = location_keys\n",
    "\n"
   ]
  },
  {
   "cell_type": "code",
   "execution_count": null,
   "id": "a61d2bb8",
   "metadata": {},
   "outputs": [],
   "source": [
    "tota = ll + wl"
   ]
  },
  {
   "cell_type": "code",
   "execution_count": null,
   "id": "ab739824",
   "metadata": {},
   "outputs": [],
   "source": [
    "tota = tota.unique()"
   ]
  },
  {
   "cell_type": "code",
   "execution_count": null,
   "id": "a42953dc",
   "metadata": {},
   "outputs": [],
   "source": [
    "tot = tot.unique()"
   ]
  },
  {
   "cell_type": "code",
   "execution_count": null,
   "id": "7f641e51",
   "metadata": {},
   "outputs": [],
   "source": [
    "myList = []\n",
    "\n",
    "for i, row in accidents.iterrows():\n",
    "    val = (row['ID'],row['Severity'],row['Distance(mi)'],row['Start_Time'],row['End_Time'],row['ID'],row['ID'])\n",
    "    myList.append(val)\n",
    "print(\"Hello\")"
   ]
  },
  {
   "cell_type": "code",
   "execution_count": null,
   "id": "bf226b67",
   "metadata": {},
   "outputs": [],
   "source": [
    "print(len(myList))"
   ]
  },
  {
   "cell_type": "code",
   "execution_count": null,
   "id": "1becc8ff",
   "metadata": {},
   "outputs": [],
   "source": [
    "mycursor.executemany(insert_query, myList)"
   ]
  },
  {
   "cell_type": "code",
   "execution_count": null,
   "id": "0589b877",
   "metadata": {},
   "outputs": [],
   "source": [
    "\n",
    "val = ('A-6',3,'0.01','2016-02-08 07:44:26','2016-02-08 08:14:26', 'A-6', 'A-6')\n",
    "mycursor.execute(insert_query, val)"
   ]
  },
  {
   "cell_type": "code",
   "execution_count": null,
   "id": "026c1bd8",
   "metadata": {},
   "outputs": [],
   "source": [
    "dateRegex = re.compile(/d{4}-/d{2}-/d{2} 07:44:26)"
   ]
  },
  {
   "cell_type": "code",
   "execution_count": null,
   "id": "a59244d7",
   "metadata": {},
   "outputs": [],
   "source": [
    "print(insert_query)\n"
   ]
  }
 ],
 "metadata": {
  "kernelspec": {
   "display_name": "Python 3 (ipykernel)",
   "language": "python",
   "name": "python3"
  },
  "language_info": {
   "codemirror_mode": {
    "name": "ipython",
    "version": 3
   },
   "file_extension": ".py",
   "mimetype": "text/x-python",
   "name": "python",
   "nbconvert_exporter": "python",
   "pygments_lexer": "ipython3",
   "version": "3.11.5"
  }
 },
 "nbformat": 4,
 "nbformat_minor": 5
}
