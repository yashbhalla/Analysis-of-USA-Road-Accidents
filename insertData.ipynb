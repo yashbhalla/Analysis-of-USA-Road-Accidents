{
 "cells": [
  {
   "cell_type": "code",
   "execution_count": 13,
   "id": "30e02f66",
   "metadata": {},
   "outputs": [
    {
     "name": "stdout",
     "output_type": "stream",
     "text": [
      "Requirement already satisfied: oracledb in /Users/yashbhalla/anaconda3/lib/python3.11/site-packages (1.4.2)\n",
      "Requirement already satisfied: cryptography>=3.2.1 in /Users/yashbhalla/anaconda3/lib/python3.11/site-packages (from oracledb) (41.0.3)\n",
      "Requirement already satisfied: cffi>=1.12 in /Users/yashbhalla/anaconda3/lib/python3.11/site-packages (from cryptography>=3.2.1->oracledb) (1.15.1)\n",
      "Requirement already satisfied: pycparser in /Users/yashbhalla/anaconda3/lib/python3.11/site-packages (from cffi>=1.12->cryptography>=3.2.1->oracledb) (2.21)\n",
      "Note: you may need to restart the kernel to use updated packages.\n"
     ]
    }
   ],
   "source": [
    "pip install oracledb"
   ]
  },
  {
   "cell_type": "code",
   "execution_count": 114,
   "id": "f49b44db",
   "metadata": {},
   "outputs": [],
   "source": [
    "import pandas as pd"
   ]
  },
  {
   "cell_type": "code",
   "execution_count": 115,
   "id": "2d41aeb7",
   "metadata": {},
   "outputs": [],
   "source": [
    "import oracledb"
   ]
  },
  {
   "cell_type": "code",
   "execution_count": 116,
   "id": "76e74e8a",
   "metadata": {},
   "outputs": [
    {
     "name": "stdout",
     "output_type": "stream",
     "text": [
      "CONNECTION SUCCESS\n"
     ]
    }
   ],
   "source": [
    "passw = \"MvbW2qcKgsjxmGqahWo5L8Y4\"\n",
    "\n",
    "connection = oracledb.connect(\n",
    "    user=\"yash.bhalla\",\n",
    "    password=passw,\n",
    "    dsn=\"oracle.cise.ufl.edu:1521/orcl\")\n",
    "print(\"CONNECTION SUCCESS\")"
   ]
  },
  {
   "cell_type": "code",
   "execution_count": 9,
   "id": "e4c1d52c",
   "metadata": {},
   "outputs": [],
   "source": [
    "county = pd.read_csv(\"county.csv\")"
   ]
  },
  {
   "cell_type": "code",
   "execution_count": 10,
   "id": "4998ff2d",
   "metadata": {},
   "outputs": [],
   "source": [
    "myList = []\n",
    "mycursor = connection.cursor()\n",
    "insert_query = \"INSERT INTO CountyArea (County_id, County, State_Name, County_Area) VALUES(:County_id, :County, :State_Name, :County_Area)\"\n",
    "\n",
    "for i, row in county.iterrows():\n",
    "    val2 = (row['fips'], row['name'], row['state'], row['area_2010'])\n",
    "    myList.append(val2)\n",
    "\n",
    "mycursor.executemany(insert_query, myList)\n",
    "connection.commit()"
   ]
  },
  {
   "cell_type": "code",
   "execution_count": 4,
   "id": "6006b1b8",
   "metadata": {},
   "outputs": [],
   "source": [
    "statearea = pd.read_csv(\"stateArea.csv\")\n"
   ]
  },
  {
   "cell_type": "code",
   "execution_count": 30,
   "id": "2a33a00b",
   "metadata": {},
   "outputs": [],
   "source": [
    "accidents = pd.read_csv(\"accidents.csv\")"
   ]
  },
  {
   "cell_type": "code",
   "execution_count": 5,
   "id": "183b4ff7",
   "metadata": {},
   "outputs": [
    {
     "ename": "NameError",
     "evalue": "name 'statearea' is not defined",
     "output_type": "error",
     "traceback": [
      "\u001b[0;31m---------------------------------------------------------------------------\u001b[0m",
      "\u001b[0;31mNameError\u001b[0m                                 Traceback (most recent call last)",
      "Cell \u001b[0;32mIn[5], line 6\u001b[0m\n\u001b[1;32m      2\u001b[0m mycursor \u001b[38;5;241m=\u001b[39m connection\u001b[38;5;241m.\u001b[39mcursor()\n\u001b[1;32m      4\u001b[0m insert_query \u001b[38;5;241m=\u001b[39m \u001b[38;5;124m\"\u001b[39m\u001b[38;5;124mINSERT INTO StateArea (State_Name, State_Area) VALUES(:State_Name, :State_Area)\u001b[39m\u001b[38;5;124m\"\u001b[39m\n\u001b[0;32m----> 6\u001b[0m \u001b[38;5;28;01mfor\u001b[39;00m i, row \u001b[38;5;129;01min\u001b[39;00m statearea\u001b[38;5;241m.\u001b[39miterrows():\n\u001b[1;32m      7\u001b[0m     val2 \u001b[38;5;241m=\u001b[39m (row[\u001b[38;5;124m'\u001b[39m\u001b[38;5;124mstate\u001b[39m\u001b[38;5;124m'\u001b[39m], row[\u001b[38;5;124m'\u001b[39m\u001b[38;5;124marea\u001b[39m\u001b[38;5;124m'\u001b[39m])\n\u001b[1;32m      8\u001b[0m     myList\u001b[38;5;241m.\u001b[39mappend(val2)\n",
      "\u001b[0;31mNameError\u001b[0m: name 'statearea' is not defined"
     ]
    }
   ],
   "source": [
    "myList = []\n",
    "mycursor = connection.cursor()\n",
    "\n",
    "insert_query = \"INSERT INTO StateArea (State_Name, State_Area) VALUES(:State_Name, :State_Area)\"\n",
    "\n",
    "for i, row in statearea.iterrows():\n",
    "    val2 = (row['state'], row['area'])\n",
    "    myList.append(val2)\n",
    "    \n",
    "mycursor.executemany(insert_query, myList)"
   ]
  },
  {
   "cell_type": "code",
   "execution_count": 8,
   "id": "99f548e3",
   "metadata": {},
   "outputs": [],
   "source": [
    "connection.commit()"
   ]
  },
  {
   "cell_type": "code",
   "execution_count": 31,
   "id": "892e028c",
   "metadata": {},
   "outputs": [
    {
     "ename": "DatabaseError",
     "evalue": "ORA-01830: date format picture ends before converting entire input string\nHelp: https://docs.oracle.com/error-help/db/ora-01830/",
     "output_type": "error",
     "traceback": [
      "\u001b[0;31m---------------------------------------------------------------------------\u001b[0m",
      "\u001b[0;31mDatabaseError\u001b[0m                             Traceback (most recent call last)",
      "Cell \u001b[0;32mIn[31], line 10\u001b[0m\n\u001b[1;32m      7\u001b[0m     val \u001b[38;5;241m=\u001b[39m (row[\u001b[38;5;124m'\u001b[39m\u001b[38;5;124mID\u001b[39m\u001b[38;5;124m'\u001b[39m], row[\u001b[38;5;124m'\u001b[39m\u001b[38;5;124mSeverity\u001b[39m\u001b[38;5;124m'\u001b[39m], row[\u001b[38;5;124m'\u001b[39m\u001b[38;5;124mDistance(mi)\u001b[39m\u001b[38;5;124m'\u001b[39m], row[\u001b[38;5;124m'\u001b[39m\u001b[38;5;124mStart_Time\u001b[39m\u001b[38;5;124m'\u001b[39m], row[\u001b[38;5;124m'\u001b[39m\u001b[38;5;124mEnd_Time\u001b[39m\u001b[38;5;124m'\u001b[39m], row[\u001b[38;5;124m'\u001b[39m\u001b[38;5;124mID\u001b[39m\u001b[38;5;124m'\u001b[39m], row[\u001b[38;5;124m'\u001b[39m\u001b[38;5;124mID\u001b[39m\u001b[38;5;124m'\u001b[39m])\n\u001b[1;32m      8\u001b[0m     myList\u001b[38;5;241m.\u001b[39mappend(val)\n\u001b[0;32m---> 10\u001b[0m mycursor\u001b[38;5;241m.\u001b[39mexecutemany(insert_query, myList)\n\u001b[1;32m     11\u001b[0m connection\u001b[38;5;241m.\u001b[39mcommit()\n",
      "File \u001b[0;32m~/anaconda3/lib/python3.11/site-packages/oracledb/cursor.py:444\u001b[0m, in \u001b[0;36mCursor.executemany\u001b[0;34m(self, statement, parameters, batcherrors, arraydmlrowcounts)\u001b[0m\n\u001b[1;32m    442\u001b[0m     \u001b[38;5;28;01mif\u001b[39;00m num_execs \u001b[38;5;241m>\u001b[39m \u001b[38;5;241m0\u001b[39m:\n\u001b[1;32m    443\u001b[0m         \u001b[38;5;28mself\u001b[39m\u001b[38;5;241m.\u001b[39m_impl\u001b[38;5;241m.\u001b[39mbind_many(\u001b[38;5;28mself\u001b[39m, parameters)\n\u001b[0;32m--> 444\u001b[0m \u001b[38;5;28mself\u001b[39m\u001b[38;5;241m.\u001b[39m_impl\u001b[38;5;241m.\u001b[39mexecutemany(\u001b[38;5;28mself\u001b[39m, num_execs, \u001b[38;5;28mbool\u001b[39m(batcherrors),\n\u001b[1;32m    445\u001b[0m                        \u001b[38;5;28mbool\u001b[39m(arraydmlrowcounts))\n",
      "File \u001b[0;32msrc/oracledb/impl/thin/cursor.pyx:168\u001b[0m, in \u001b[0;36moracledb.thin_impl.ThinCursorImpl.executemany\u001b[0;34m()\u001b[0m\n",
      "File \u001b[0;32msrc/oracledb/impl/thin/protocol.pyx:420\u001b[0m, in \u001b[0;36moracledb.thin_impl.Protocol._process_single_message\u001b[0;34m()\u001b[0m\n",
      "File \u001b[0;32msrc/oracledb/impl/thin/protocol.pyx:421\u001b[0m, in \u001b[0;36moracledb.thin_impl.Protocol._process_single_message\u001b[0;34m()\u001b[0m\n",
      "File \u001b[0;32msrc/oracledb/impl/thin/protocol.pyx:414\u001b[0m, in \u001b[0;36moracledb.thin_impl.Protocol._process_message\u001b[0;34m()\u001b[0m\n",
      "\u001b[0;31mDatabaseError\u001b[0m: ORA-01830: date format picture ends before converting entire input string\nHelp: https://docs.oracle.com/error-help/db/ora-01830/"
     ]
    }
   ],
   "source": [
    "myList = []\n",
    "mycursor = connection.cursor()\n",
    "\n",
    "insert_query = \"INSERT INTO Accident (Accident_ID, Severity, Distance_Affected, Start_Time, End_Time, Weather_ID,Location_ID) VALUES(:Accident_ID, :Severity, :Distance_Affected, TO_TIMESTAMP(:Start_Time, 'YYYY-MM-DD HH24:MI:SS'), TO_TIMESTAMP(:End_Time, 'YYYY-MM-DD HH24:MI:SS'), :Weather_ID,:Location_ID)\"\n",
    "\n",
    "for i, row in accidents.iterrows():\n",
    "    val = (row['ID'], row['Severity'], row['Distance(mi)'], row['Start_Time'], row['End_Time'], row['ID'], row['ID'])\n",
    "    myList.append(val)\n",
    "\n",
    "mycursor.executemany(insert_query, myList, batcherrors=True)\n",
    "for error in mycursor.getbatcherrors():\n",
    "    print(\"Error\", error.message, \"at row offset\", error.offset)\n",
    "connection.commit()"
   ]
  },
  {
   "cell_type": "code",
   "execution_count": null,
   "id": "2d3253af",
   "metadata": {
    "scrolled": true
   },
   "outputs": [],
   "source": [
    "import pandas as pd\n",
    "from datetime import datetime\n",
    "\n",
    "# Function to check if a timestamp is in the correct format\n",
    "def is_valid_timestamp(timestamp_str):\n",
    "    try:\n",
    "        datetime.strptime(timestamp_str, \"%Y-%m-%d %I:%M:%S %p\")\n",
    "        return True\n",
    "    except ValueError:\n",
    "        return False\n",
    "\n",
    "# Load the Excel file\n",
    "csv_file_path = '/Users/yashbhalla/Documents/DBMS/ProjectWork/PyInsertScript/accidents.csv'\n",
    "df = pd.read_csv(csv_file_path)\n",
    "\n",
    "print(df.columns)\n",
    "\n",
    "for index, row in df.iterrows():\n",
    "    timestamp_c = str(row['Start_Time'])  # Adjust the column name\n",
    "    timestamp_d = str(row['End_Time'])  # Adjust the column name\n",
    "\n",
    "    if is_valid_timestamp(timestamp_c):\n",
    "        print(f\"Timestamp in column 'C' at index {index} is valid: {timestamp_c}\")\n",
    "    else:\n",
    "        print(f\"Invalid timestamp in column 'C' at index {index}: {timestamp_c}\")\n",
    "\n",
    "    if is_valid_timestamp(timestamp_d):\n",
    "        print(f\"Timestamp in column 'D' at index {index} is valid: {timestamp_d}\")\n",
    "    else:\n",
    "        print(f\"Invalid timestamp in column 'D' at index {index}: {timestamp_d}\")"
   ]
  },
  {
   "cell_type": "code",
   "execution_count": 22,
   "id": "6ee52bda",
   "metadata": {},
   "outputs": [
    {
     "name": "stdout",
     "output_type": "stream",
     "text": [
      "Requirement already satisfied: pandas in /Users/yashbhalla/anaconda3/lib/python3.11/site-packages (2.0.3)\n",
      "Collecting pandas\n",
      "  Obtaining dependency information for pandas from https://files.pythonhosted.org/packages/d6/7c/20e737300f9bec011fb79c01d8948bc38c854876aac2da2cfcdd0992b153/pandas-2.1.3-cp311-cp311-macosx_11_0_arm64.whl.metadata\n",
      "  Downloading pandas-2.1.3-cp311-cp311-macosx_11_0_arm64.whl.metadata (18 kB)\n",
      "Requirement already satisfied: numpy<2,>=1.23.2 in /Users/yashbhalla/anaconda3/lib/python3.11/site-packages (from pandas) (1.24.3)\n",
      "Requirement already satisfied: python-dateutil>=2.8.2 in /Users/yashbhalla/anaconda3/lib/python3.11/site-packages (from pandas) (2.8.2)\n",
      "Requirement already satisfied: pytz>=2020.1 in /Users/yashbhalla/anaconda3/lib/python3.11/site-packages (from pandas) (2023.3.post1)\n",
      "Requirement already satisfied: tzdata>=2022.1 in /Users/yashbhalla/anaconda3/lib/python3.11/site-packages (from pandas) (2023.3)\n",
      "Requirement already satisfied: six>=1.5 in /Users/yashbhalla/anaconda3/lib/python3.11/site-packages (from python-dateutil>=2.8.2->pandas) (1.16.0)\n",
      "Downloading pandas-2.1.3-cp311-cp311-macosx_11_0_arm64.whl (10.8 MB)\n",
      "\u001b[2K   \u001b[90m━━━━━━━━━━━━━━━━━━━━━━━━━━━━━━━━━━━━━━━━\u001b[0m \u001b[32m10.8/10.8 MB\u001b[0m \u001b[31m523.0 kB/s\u001b[0m eta \u001b[36m0:00:00\u001b[0m00:01\u001b[0m00:01\u001b[0m\n",
      "\u001b[?25hInstalling collected packages: pandas\n",
      "  Attempting uninstall: pandas\n",
      "    Found existing installation: pandas 2.0.3\n",
      "    Uninstalling pandas-2.0.3:\n",
      "      Successfully uninstalled pandas-2.0.3\n",
      "Successfully installed pandas-2.1.3\n",
      "Note: you may need to restart the kernel to use updated packages.\n"
     ]
    }
   ],
   "source": [
    "pip install --upgrade pandas"
   ]
  },
  {
   "cell_type": "code",
   "execution_count": 23,
   "id": "cd623278",
   "metadata": {},
   "outputs": [
    {
     "name": "stdout",
     "output_type": "stream",
     "text": [
      "Requirement already satisfied: openpyxl in /Users/yashbhalla/anaconda3/lib/python3.11/site-packages (3.0.10)\n",
      "Collecting openpyxl\n",
      "  Downloading openpyxl-3.1.2-py2.py3-none-any.whl (249 kB)\n",
      "\u001b[2K     \u001b[90m━━━━━━━━━━━━━━━━━━━━━━━━━━━━━━━━━━━━━━━\u001b[0m \u001b[32m250.0/250.0 kB\u001b[0m \u001b[31m1.5 MB/s\u001b[0m eta \u001b[36m0:00:00\u001b[0ma \u001b[36m0:00:01\u001b[0m\n",
      "\u001b[?25hRequirement already satisfied: et-xmlfile in /Users/yashbhalla/anaconda3/lib/python3.11/site-packages (from openpyxl) (1.1.0)\n",
      "Installing collected packages: openpyxl\n",
      "  Attempting uninstall: openpyxl\n",
      "    Found existing installation: openpyxl 3.0.10\n",
      "    Uninstalling openpyxl-3.0.10:\n",
      "      Successfully uninstalled openpyxl-3.0.10\n",
      "Successfully installed openpyxl-3.1.2\n",
      "Note: you may need to restart the kernel to use updated packages.\n"
     ]
    }
   ],
   "source": [
    "pip install --upgrade openpyxl"
   ]
  },
  {
   "cell_type": "code",
   "execution_count": 6,
   "id": "f82d6bb3",
   "metadata": {},
   "outputs": [
    {
     "name": "stdout",
     "output_type": "stream",
     "text": [
      "Collecting xlrd\n",
      "  Downloading xlrd-2.0.1-py2.py3-none-any.whl (96 kB)\n",
      "\u001b[2K     \u001b[90m━━━━━━━━━━━━━━━━━━━━━━━━━━━━━━━━━━━━━━━━\u001b[0m \u001b[32m96.5/96.5 kB\u001b[0m \u001b[31m2.3 MB/s\u001b[0m eta \u001b[36m0:00:00\u001b[0m\n",
      "\u001b[?25hInstalling collected packages: xlrd\n",
      "Successfully installed xlrd-2.0.1\n",
      "Note: you may need to restart the kernel to use updated packages.\n"
     ]
    }
   ],
   "source": [
    "pip install xlrd"
   ]
  },
  {
   "cell_type": "code",
   "execution_count": 32,
   "id": "4837ba08",
   "metadata": {},
   "outputs": [
    {
     "name": "stdout",
     "output_type": "stream",
     "text": [
      "5217174\n"
     ]
    }
   ],
   "source": [
    "print(len(accidents))"
   ]
  },
  {
   "cell_type": "code",
   "execution_count": 34,
   "id": "330a9ceb",
   "metadata": {},
   "outputs": [],
   "source": [
    "new_df1 = accidents.iloc[:1000000,:]\n",
    "new_df2 = accidents.iloc[1000000:2000000,:]\n",
    "new_df3 = accidents.iloc[2000000:3000000,:]\n",
    "\n",
    "new_df4 = accidents.iloc[3000000:4000000,:]\n",
    "new_df5 = accidents.iloc[4000000:5000000,:]\n",
    "new_df6 = accidents.iloc[5000000:5217173,:]\n"
   ]
  },
  {
   "cell_type": "code",
   "execution_count": 35,
   "id": "b219702e",
   "metadata": {},
   "outputs": [
    {
     "ename": "InternalError",
     "evalue": "DPY-5002: internal error: read integer of length 3 when expecting integer of no more than length 2",
     "output_type": "error",
     "traceback": [
      "\u001b[0;31m---------------------------------------------------------------------------\u001b[0m",
      "\u001b[0;31mInternalError\u001b[0m                             Traceback (most recent call last)",
      "Cell \u001b[0;32mIn[35], line 10\u001b[0m\n\u001b[1;32m      7\u001b[0m     val \u001b[38;5;241m=\u001b[39m (row[\u001b[38;5;124m'\u001b[39m\u001b[38;5;124mID\u001b[39m\u001b[38;5;124m'\u001b[39m], row[\u001b[38;5;124m'\u001b[39m\u001b[38;5;124mSeverity\u001b[39m\u001b[38;5;124m'\u001b[39m], row[\u001b[38;5;124m'\u001b[39m\u001b[38;5;124mDistance(mi)\u001b[39m\u001b[38;5;124m'\u001b[39m], row[\u001b[38;5;124m'\u001b[39m\u001b[38;5;124mStart_Time\u001b[39m\u001b[38;5;124m'\u001b[39m], row[\u001b[38;5;124m'\u001b[39m\u001b[38;5;124mEnd_Time\u001b[39m\u001b[38;5;124m'\u001b[39m], row[\u001b[38;5;124m'\u001b[39m\u001b[38;5;124mID\u001b[39m\u001b[38;5;124m'\u001b[39m], row[\u001b[38;5;124m'\u001b[39m\u001b[38;5;124mID\u001b[39m\u001b[38;5;124m'\u001b[39m])\n\u001b[1;32m      8\u001b[0m     myList\u001b[38;5;241m.\u001b[39mappend(val)\n\u001b[0;32m---> 10\u001b[0m mycursor\u001b[38;5;241m.\u001b[39mexecutemany(insert_query, myList, batcherrors\u001b[38;5;241m=\u001b[39m\u001b[38;5;28;01mTrue\u001b[39;00m)\n\u001b[1;32m     11\u001b[0m \u001b[38;5;28;01mfor\u001b[39;00m error \u001b[38;5;129;01min\u001b[39;00m mycursor\u001b[38;5;241m.\u001b[39mgetbatcherrors():\n\u001b[1;32m     12\u001b[0m     \u001b[38;5;28mprint\u001b[39m(\u001b[38;5;124m\"\u001b[39m\u001b[38;5;124mError\u001b[39m\u001b[38;5;124m\"\u001b[39m, error\u001b[38;5;241m.\u001b[39mmessage, \u001b[38;5;124m\"\u001b[39m\u001b[38;5;124mat row offset\u001b[39m\u001b[38;5;124m\"\u001b[39m, error\u001b[38;5;241m.\u001b[39moffset)\n",
      "File \u001b[0;32m~/anaconda3/lib/python3.11/site-packages/oracledb/cursor.py:444\u001b[0m, in \u001b[0;36mCursor.executemany\u001b[0;34m(self, statement, parameters, batcherrors, arraydmlrowcounts)\u001b[0m\n\u001b[1;32m    442\u001b[0m     \u001b[38;5;28;01mif\u001b[39;00m num_execs \u001b[38;5;241m>\u001b[39m \u001b[38;5;241m0\u001b[39m:\n\u001b[1;32m    443\u001b[0m         \u001b[38;5;28mself\u001b[39m\u001b[38;5;241m.\u001b[39m_impl\u001b[38;5;241m.\u001b[39mbind_many(\u001b[38;5;28mself\u001b[39m, parameters)\n\u001b[0;32m--> 444\u001b[0m \u001b[38;5;28mself\u001b[39m\u001b[38;5;241m.\u001b[39m_impl\u001b[38;5;241m.\u001b[39mexecutemany(\u001b[38;5;28mself\u001b[39m, num_execs, \u001b[38;5;28mbool\u001b[39m(batcherrors),\n\u001b[1;32m    445\u001b[0m                        \u001b[38;5;28mbool\u001b[39m(arraydmlrowcounts))\n",
      "File \u001b[0;32msrc/oracledb/impl/thin/cursor.pyx:168\u001b[0m, in \u001b[0;36moracledb.thin_impl.ThinCursorImpl.executemany\u001b[0;34m()\u001b[0m\n",
      "File \u001b[0;32msrc/oracledb/impl/thin/protocol.pyx:420\u001b[0m, in \u001b[0;36moracledb.thin_impl.Protocol._process_single_message\u001b[0;34m()\u001b[0m\n",
      "File \u001b[0;32msrc/oracledb/impl/thin/protocol.pyx:421\u001b[0m, in \u001b[0;36moracledb.thin_impl.Protocol._process_single_message\u001b[0;34m()\u001b[0m\n",
      "File \u001b[0;32msrc/oracledb/impl/thin/protocol.pyx:381\u001b[0m, in \u001b[0;36moracledb.thin_impl.Protocol._process_message\u001b[0;34m()\u001b[0m\n",
      "File \u001b[0;32msrc/oracledb/impl/thin/protocol.pyx:360\u001b[0m, in \u001b[0;36moracledb.thin_impl.Protocol._process_message\u001b[0;34m()\u001b[0m\n",
      "File \u001b[0;32msrc/oracledb/impl/thin/messages.pyx:292\u001b[0m, in \u001b[0;36moracledb.thin_impl.Message.process\u001b[0;34m()\u001b[0m\n",
      "File \u001b[0;32msrc/oracledb/impl/thin/messages.pyx:840\u001b[0m, in \u001b[0;36moracledb.thin_impl.MessageWithData._process_message\u001b[0;34m()\u001b[0m\n",
      "File \u001b[0;32msrc/oracledb/impl/thin/messages.pyx:751\u001b[0m, in \u001b[0;36moracledb.thin_impl.MessageWithData._process_error_info\u001b[0;34m()\u001b[0m\n",
      "File \u001b[0;32msrc/oracledb/impl/thin/messages.pyx:137\u001b[0m, in \u001b[0;36moracledb.thin_impl.Message._process_error_info\u001b[0;34m()\u001b[0m\n",
      "File \u001b[0;32msrc/oracledb/impl/thin/buffer.pyx:791\u001b[0m, in \u001b[0;36moracledb.thin_impl.Buffer.read_ub2\u001b[0;34m()\u001b[0m\n",
      "File \u001b[0;32msrc/oracledb/impl/thin/packet.pyx:228\u001b[0m, in \u001b[0;36moracledb.thin_impl.ReadBuffer._get_int_length_and_sign\u001b[0;34m()\u001b[0m\n",
      "File \u001b[0;32m~/anaconda3/lib/python3.11/site-packages/oracledb/errors.py:127\u001b[0m, in \u001b[0;36m_raise_err\u001b[0;34m(error_num, context_error_message, cause, **args)\u001b[0m\n\u001b[1;32m    125\u001b[0m     message \u001b[38;5;241m=\u001b[39m \u001b[38;5;124mf\u001b[39m\u001b[38;5;124m\"\u001b[39m\u001b[38;5;132;01m{\u001b[39;00mmessage\u001b[38;5;132;01m}\u001b[39;00m\u001b[38;5;130;01m\\n\u001b[39;00m\u001b[38;5;132;01m{\u001b[39;00mcontext_error_message\u001b[38;5;132;01m}\u001b[39;00m\u001b[38;5;124m\"\u001b[39m\n\u001b[1;32m    126\u001b[0m exc_type \u001b[38;5;241m=\u001b[39m ERR_EXCEPTION_TYPES[error_num \u001b[38;5;241m/\u001b[39m\u001b[38;5;241m/\u001b[39m \u001b[38;5;241m1000\u001b[39m]\n\u001b[0;32m--> 127\u001b[0m \u001b[38;5;28;01mraise\u001b[39;00m exc_type(_Error(message)) \u001b[38;5;28;01mfrom\u001b[39;00m \u001b[38;5;21;01mcause\u001b[39;00m\n",
      "\u001b[0;31mInternalError\u001b[0m: DPY-5002: internal error: read integer of length 3 when expecting integer of no more than length 2"
     ]
    }
   ],
   "source": [
    "myList = []\n",
    "mycursor = connection.cursor()\n",
    "\n",
    "insert_query = \"INSERT INTO Accident (Accident_ID, Severity, Distance_Affected, Start_Time, End_Time, Weather_ID,Location_ID) VALUES(:Accident_ID, :Severity, :Distance_Affected, TO_TIMESTAMP(:Start_Time, 'YYYY-MM-DD HH24:MI:SS'), TO_TIMESTAMP(:End_Time, 'YYYY-MM-DD HH24:MI:SS'), :Weather_ID,:Location_ID)\"\n",
    "\n",
    "for i, row in new_df1.iterrows():\n",
    "    val = (row['ID'], row['Severity'], row['Distance(mi)'], row['Start_Time'], row['End_Time'], row['ID'], row['ID'])\n",
    "    myList.append(val)\n",
    "\n",
    "mycursor.executemany(insert_query, myList, batcherrors=True)\n",
    "for error in mycursor.getbatcherrors():\n",
    "    print(\"Error\", error.message, \"at row offset\", error.offset)\n",
    "connection.commit()"
   ]
  },
  {
   "cell_type": "code",
   "execution_count": 36,
   "id": "52661138",
   "metadata": {},
   "outputs": [],
   "source": [
    "new_df1 = accidents.iloc[:15,:]"
   ]
  },
  {
   "cell_type": "code",
   "execution_count": null,
   "id": "818df699",
   "metadata": {},
   "outputs": [],
   "source": []
  },
  {
   "cell_type": "code",
   "execution_count": 46,
   "id": "3c103316",
   "metadata": {},
   "outputs": [],
   "source": [
    "myList = []\n",
    "mycursor = connection.cursor()\n",
    "\n",
    "insert_query = \"INSERT INTO Accident (Accident_ID, Severity, Distance_Affected, Start_Time, End_Time, Weather_ID,Location_ID) VALUES(:Accident_ID, :Severity, :Distance_Affected, TO_TIMESTAMP(:Start_Time, 'YYYY-MM-DD HH24:MI:SS'), TO_TIMESTAMP(:End_Time, 'YYYY-MM-DD HH24:MI:SS'), :Weather_ID,:Location_ID)\"\n",
    "\n",
    "for i, row in new_df2.iterrows():\n",
    "    val = (row['ID'], row['Severity'], row['Distance(mi)'], row['Start_Time'], row['End_Time'], row['ID'], row['ID'])\n",
    "    myList.append(val)\n",
    "\n"
   ]
  },
  {
   "cell_type": "code",
   "execution_count": 41,
   "id": "dd1c6e9d",
   "metadata": {},
   "outputs": [
    {
     "name": "stdout",
     "output_type": "stream",
     "text": [
      "Unnamed: 0                            3639812\n",
      "ID                                  A-3649695\n",
      "Start_Time      2017-07-24 07:15:46.000000000\n",
      "End_Time        2017-07-24 13:15:46.000000000\n",
      "Severity                                    2\n",
      "Distance(mi)                             0.48\n",
      "Name: 1664966, dtype: object\n"
     ]
    }
   ],
   "source": [
    "print(accidents.iloc[1664966])"
   ]
  },
  {
   "cell_type": "code",
   "execution_count": 42,
   "id": "f5795dfc",
   "metadata": {},
   "outputs": [],
   "source": [
    "new_df1 = accidents.iloc[:1000000,:]\n",
    "new_df2 = accidents.iloc[1000000:2000000,:]\n",
    "new_df3 = accidents.iloc[2000000:3000000,:]\n",
    "\n",
    "new_df4 = accidents.iloc[3000000:4000000,:]\n",
    "new_df5 = accidents.iloc[4000000:5000000,:]\n",
    "new_df6 = accidents.iloc[5000000:5217173,:]"
   ]
  },
  {
   "cell_type": "code",
   "execution_count": null,
   "id": "622b8084",
   "metadata": {},
   "outputs": [],
   "source": [
    "print(len(new_df2))"
   ]
  },
  {
   "cell_type": "code",
   "execution_count": 48,
   "id": "6563754e",
   "metadata": {},
   "outputs": [
    {
     "ename": "InternalError",
     "evalue": "DPY-5002: internal error: read integer of length 3 when expecting integer of no more than length 2",
     "output_type": "error",
     "traceback": [
      "\u001b[0;31m---------------------------------------------------------------------------\u001b[0m",
      "\u001b[0;31mInternalError\u001b[0m                             Traceback (most recent call last)",
      "Cell \u001b[0;32mIn[48], line 1\u001b[0m\n\u001b[0;32m----> 1\u001b[0m mycursor\u001b[38;5;241m.\u001b[39mexecutemany(insert_query, myList, batcherrors\u001b[38;5;241m=\u001b[39m\u001b[38;5;28;01mTrue\u001b[39;00m)\n\u001b[1;32m      2\u001b[0m connection\u001b[38;5;241m.\u001b[39mcommit()\n",
      "File \u001b[0;32m~/anaconda3/lib/python3.11/site-packages/oracledb/cursor.py:444\u001b[0m, in \u001b[0;36mCursor.executemany\u001b[0;34m(self, statement, parameters, batcherrors, arraydmlrowcounts)\u001b[0m\n\u001b[1;32m    442\u001b[0m     \u001b[38;5;28;01mif\u001b[39;00m num_execs \u001b[38;5;241m>\u001b[39m \u001b[38;5;241m0\u001b[39m:\n\u001b[1;32m    443\u001b[0m         \u001b[38;5;28mself\u001b[39m\u001b[38;5;241m.\u001b[39m_impl\u001b[38;5;241m.\u001b[39mbind_many(\u001b[38;5;28mself\u001b[39m, parameters)\n\u001b[0;32m--> 444\u001b[0m \u001b[38;5;28mself\u001b[39m\u001b[38;5;241m.\u001b[39m_impl\u001b[38;5;241m.\u001b[39mexecutemany(\u001b[38;5;28mself\u001b[39m, num_execs, \u001b[38;5;28mbool\u001b[39m(batcherrors),\n\u001b[1;32m    445\u001b[0m                        \u001b[38;5;28mbool\u001b[39m(arraydmlrowcounts))\n",
      "File \u001b[0;32msrc/oracledb/impl/thin/cursor.pyx:168\u001b[0m, in \u001b[0;36moracledb.thin_impl.ThinCursorImpl.executemany\u001b[0;34m()\u001b[0m\n",
      "File \u001b[0;32msrc/oracledb/impl/thin/protocol.pyx:420\u001b[0m, in \u001b[0;36moracledb.thin_impl.Protocol._process_single_message\u001b[0;34m()\u001b[0m\n",
      "File \u001b[0;32msrc/oracledb/impl/thin/protocol.pyx:421\u001b[0m, in \u001b[0;36moracledb.thin_impl.Protocol._process_single_message\u001b[0;34m()\u001b[0m\n",
      "File \u001b[0;32msrc/oracledb/impl/thin/protocol.pyx:381\u001b[0m, in \u001b[0;36moracledb.thin_impl.Protocol._process_message\u001b[0;34m()\u001b[0m\n",
      "File \u001b[0;32msrc/oracledb/impl/thin/protocol.pyx:360\u001b[0m, in \u001b[0;36moracledb.thin_impl.Protocol._process_message\u001b[0;34m()\u001b[0m\n",
      "File \u001b[0;32msrc/oracledb/impl/thin/messages.pyx:292\u001b[0m, in \u001b[0;36moracledb.thin_impl.Message.process\u001b[0;34m()\u001b[0m\n",
      "File \u001b[0;32msrc/oracledb/impl/thin/messages.pyx:840\u001b[0m, in \u001b[0;36moracledb.thin_impl.MessageWithData._process_message\u001b[0;34m()\u001b[0m\n",
      "File \u001b[0;32msrc/oracledb/impl/thin/messages.pyx:751\u001b[0m, in \u001b[0;36moracledb.thin_impl.MessageWithData._process_error_info\u001b[0;34m()\u001b[0m\n",
      "File \u001b[0;32msrc/oracledb/impl/thin/messages.pyx:137\u001b[0m, in \u001b[0;36moracledb.thin_impl.Message._process_error_info\u001b[0;34m()\u001b[0m\n",
      "File \u001b[0;32msrc/oracledb/impl/thin/buffer.pyx:791\u001b[0m, in \u001b[0;36moracledb.thin_impl.Buffer.read_ub2\u001b[0;34m()\u001b[0m\n",
      "File \u001b[0;32msrc/oracledb/impl/thin/packet.pyx:228\u001b[0m, in \u001b[0;36moracledb.thin_impl.ReadBuffer._get_int_length_and_sign\u001b[0;34m()\u001b[0m\n",
      "File \u001b[0;32m~/anaconda3/lib/python3.11/site-packages/oracledb/errors.py:127\u001b[0m, in \u001b[0;36m_raise_err\u001b[0;34m(error_num, context_error_message, cause, **args)\u001b[0m\n\u001b[1;32m    125\u001b[0m     message \u001b[38;5;241m=\u001b[39m \u001b[38;5;124mf\u001b[39m\u001b[38;5;124m\"\u001b[39m\u001b[38;5;132;01m{\u001b[39;00mmessage\u001b[38;5;132;01m}\u001b[39;00m\u001b[38;5;130;01m\\n\u001b[39;00m\u001b[38;5;132;01m{\u001b[39;00mcontext_error_message\u001b[38;5;132;01m}\u001b[39;00m\u001b[38;5;124m\"\u001b[39m\n\u001b[1;32m    126\u001b[0m exc_type \u001b[38;5;241m=\u001b[39m ERR_EXCEPTION_TYPES[error_num \u001b[38;5;241m/\u001b[39m\u001b[38;5;241m/\u001b[39m \u001b[38;5;241m1000\u001b[39m]\n\u001b[0;32m--> 127\u001b[0m \u001b[38;5;28;01mraise\u001b[39;00m exc_type(_Error(message)) \u001b[38;5;28;01mfrom\u001b[39;00m \u001b[38;5;21;01mcause\u001b[39;00m\n",
      "\u001b[0;31mInternalError\u001b[0m: DPY-5002: internal error: read integer of length 3 when expecting integer of no more than length 2"
     ]
    }
   ],
   "source": [
    "mycursor.executemany(insert_query, myList, batcherrors=True)\n",
    "connection.commit()"
   ]
  },
  {
   "cell_type": "code",
   "execution_count": 110,
   "id": "41945a16",
   "metadata": {},
   "outputs": [
    {
     "name": "stdout",
     "output_type": "stream",
     "text": [
      "Unnamed: 0                            3896936\n",
      "ID                                  A-3926167\n",
      "Start_Time      2023-02-15 13:45:00.000000000\n",
      "End_Time        2023-02-15 14:31:30.000000000\n",
      "Severity                                    2\n",
      "Distance(mi)                            3.388\n",
      "Name: 1903576, dtype: object\n"
     ]
    }
   ],
   "source": [
    "row = accidents.iloc[1903576]\n",
    "print(row)"
   ]
  },
  {
   "cell_type": "code",
   "execution_count": 75,
   "id": "85818be4",
   "metadata": {},
   "outputs": [],
   "source": [
    "myList = []\n",
    "mycursor = connection.cursor()\n",
    "\n",
    "insert_query = \"INSERT INTO Accident (Accident_ID, Severity, Distance_Affected, Start_Time, End_Time, Weather_ID,Location_ID) VALUES(:Accident_ID, :Severity, :Distance_Affected, TO_TIMESTAMP(:Start_Time, 'YYYY-MM-DD HH24:MI:SS'), TO_TIMESTAMP(:End_Time, 'YYYY-MM-DD HH24:MI:SS'), :Weather_ID,:Location_ID)\"\n",
    "\n",
    "val = (row['ID'], int(row['Severity']), row['Distance(mi)'], row['Start_Time'], row['End_Time'], row['ID'], row['ID'])\n",
    "myList.append(val)\n",
    "    "
   ]
  },
  {
   "cell_type": "code",
   "execution_count": 76,
   "id": "8b596423",
   "metadata": {},
   "outputs": [
    {
     "name": "stdout",
     "output_type": "stream",
     "text": [
      "('A-3649761', 2, 0.48, '2017-07-24 14:32:16.000000000', '2017-07-24 20:32:16.000000000', 'A-3649761', 'A-3649761')\n"
     ]
    }
   ],
   "source": [
    "print(val)"
   ]
  },
  {
   "cell_type": "code",
   "execution_count": 77,
   "id": "7cb1802d",
   "metadata": {},
   "outputs": [
    {
     "data": {
      "text/plain": [
       "Unnamed: 0        int64\n",
       "ID               object\n",
       "Start_Time       object\n",
       "End_Time         object\n",
       "Severity          int64\n",
       "Distance(mi)    float64\n",
       "dtype: object"
      ]
     },
     "execution_count": 77,
     "metadata": {},
     "output_type": "execute_result"
    }
   ],
   "source": [
    "accidents.dtypes"
   ]
  },
  {
   "cell_type": "code",
   "execution_count": 78,
   "id": "bc52342e",
   "metadata": {},
   "outputs": [],
   "source": [
    "mycursor.executemany(insert_query, myList, batcherrors=True)"
   ]
  },
  {
   "cell_type": "code",
   "execution_count": 80,
   "id": "beed05d9",
   "metadata": {},
   "outputs": [
    {
     "ename": "AttributeError",
     "evalue": "'Cursor' object has no attribute 'commit'",
     "output_type": "error",
     "traceback": [
      "\u001b[0;31m---------------------------------------------------------------------------\u001b[0m",
      "\u001b[0;31mAttributeError\u001b[0m                            Traceback (most recent call last)",
      "Cell \u001b[0;32mIn[80], line 1\u001b[0m\n\u001b[0;32m----> 1\u001b[0m mycursor\u001b[38;5;241m.\u001b[39mcommit()\n",
      "\u001b[0;31mAttributeError\u001b[0m: 'Cursor' object has no attribute 'commit'"
     ]
    }
   ],
   "source": [
    "mycursor.commit()"
   ]
  },
  {
   "cell_type": "code",
   "execution_count": 81,
   "id": "16aa7b6b",
   "metadata": {},
   "outputs": [],
   "source": [
    "connection.commit()"
   ]
  },
  {
   "cell_type": "code",
   "execution_count": 117,
   "id": "0f8be91f",
   "metadata": {},
   "outputs": [],
   "source": [
    "new_df1 = accidents.iloc[:1000000,:]\n",
    "new_df2 = accidents.iloc[1000000:2000000,:]\n",
    "new_df3 = accidents.iloc[2000000:3000000,:]\n",
    "\n",
    "new_df4 = accidents.iloc[3000000:4000000,:]\n",
    "new_df5 = accidents.iloc[4000000:5000000,:]\n",
    "new_df6 = accidents.iloc[5000000:5217173,:]"
   ]
  },
  {
   "cell_type": "code",
   "execution_count": null,
   "id": "b306a90b",
   "metadata": {},
   "outputs": [],
   "source": [
    "myList = []\n",
    "mycursor = connection.cursor()\n",
    "\n",
    "insert_query = \"INSERT INTO Accident (Accident_ID, Severity, Distance_Affected, Start_Time, End_Time, Weather_ID,Location_ID) VALUES(:Accident_ID, :Severity, :Distance_Affected, TO_TIMESTAMP(:Start_Time, 'YYYY-MM-DD HH24:MI:SS'), TO_TIMESTAMP(:End_Time, 'YYYY-MM-DD HH24:MI:SS'), :Weather_ID,:Location_ID)\"\n",
    "\n",
    "for i, row in new_df2.iterrows():\n",
    "    severity_value = row['Severity'].strip() if isinstance(row['Severity'], str) else row['Severity']\n",
    "    val = {\n",
    "        'Accident_ID': row['ID'],\n",
    "        'Severity': int(severity_value) if severity_value else 1,  # Convert to the appropriate data type\n",
    "        'Distance_Affected': row['Distance(mi)'],\n",
    "        'Start_Time': row['Start_Time'],\n",
    "        'End_Time': row['End_Time'],\n",
    "        'Weather_ID': row['ID'],  # Check if this is the correct column\n",
    "        'Location_ID': row['ID']  # Check if this is the correct column\n",
    "    }\n",
    "    myList.append(val)\n",
    "\n",
    "#     val = (row['ID'], int(row['Severity']), row['Distance(mi)'], row['Start_Time'], row['End_Time'], row['ID'], row['ID'])\n",
    "#     myList.append(val)\n",
    "    \n",
    "try:\n",
    "    mycursor.executemany(insert_query, myList, batcherrors=True)\n",
    "except:\n",
    "    print('Catch error')\n",
    "finally: \n",
    "    connection.commit()"
   ]
  },
  {
   "cell_type": "code",
   "execution_count": 101,
   "id": "08539918",
   "metadata": {},
   "outputs": [],
   "source": [
    "new_df2 = accidents.iloc[1903576:2000000,:]\n"
   ]
  },
  {
   "cell_type": "code",
   "execution_count": 103,
   "id": "0c8072fd",
   "metadata": {},
   "outputs": [],
   "source": [
    "connection.commit()"
   ]
  },
  {
   "cell_type": "code",
   "execution_count": null,
   "id": "8bfb0456",
   "metadata": {},
   "outputs": [],
   "source": [
    "len(myList)"
   ]
  },
  {
   "cell_type": "code",
   "execution_count": 1,
   "id": "282898ce",
   "metadata": {},
   "outputs": [
    {
     "ename": "NameError",
     "evalue": "name 'connection' is not defined",
     "output_type": "error",
     "traceback": [
      "\u001b[0;31m---------------------------------------------------------------------------\u001b[0m",
      "\u001b[0;31mNameError\u001b[0m                                 Traceback (most recent call last)",
      "Cell \u001b[0;32mIn[1], line 1\u001b[0m\n\u001b[0;32m----> 1\u001b[0m connection\u001b[38;5;241m.\u001b[39mclose()\n",
      "\u001b[0;31mNameError\u001b[0m: name 'connection' is not defined"
     ]
    }
   ],
   "source": [
    "connection.close()"
   ]
  },
  {
   "cell_type": "code",
   "execution_count": null,
   "id": "159434ca",
   "metadata": {},
   "outputs": [],
   "source": []
  }
 ],
 "metadata": {
  "kernelspec": {
   "display_name": "Python 3 (ipykernel)",
   "language": "python",
   "name": "python3"
  },
  "language_info": {
   "codemirror_mode": {
    "name": "ipython",
    "version": 3
   },
   "file_extension": ".py",
   "mimetype": "text/x-python",
   "name": "python",
   "nbconvert_exporter": "python",
   "pygments_lexer": "ipython3",
   "version": "3.11.5"
  }
 },
 "nbformat": 4,
 "nbformat_minor": 5
}
